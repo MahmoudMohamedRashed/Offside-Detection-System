import numpy as np 
import matplotlib.pyplot as plt

l1 = np.cross([251 , 949 , 1 ] , [151 , 286 , 1]) # 1 for normalize
print("Line equation one")
print(l1) 
l2 = np.cross([1072 , 656 , 1] , [861 , 392 , 1])
print("line equation two")
print(l2)

v = np.cross(l1 , l2) 
print(v)
v = v / v[2]
print("vanishing point after normalize")
print(v)

img = plt.imread("var.png")
plt.plot([1283 , v[0]] , [792 , v[1]] ,"r-" ,linewidth = 0.1)
plt.plot([1274 , v[0]] , [799 , v[1]] ,"g-" ,linewidth = 0.1)
plt.plot([1061 , v[0]] , [542 , v[1]] ,"b-" ,linewidth = 0.1)
plt.imshow(img)
plt.show
plt.savefig("var_out1.png",dpi=800) 

l3=np.cross((1385,545,1),(1389,383,1))
print("L3= ",l3)
l4=np.cross((1259,441,1),(1266,288,1))
print("L4= ",l4)
v2 = np.cross(l3 , l4)
print(v2)
v2 = v2 / v2[2]
print(v2) 
img = plt.imread("var.png")
plt.plot([1283 , v[0]] , [792 , v[1]] ,"r-" ,linewidth = 0.1)
plt.plot([1274 , v[0]] , [799 , v[1]] ,"g-" ,linewidth = 0.1)
plt.plot([1061 , v[0]] , [542 , v[1]] ,"b-" ,linewidth = 0.1)
plt.plot([1061 , v2[0]] , [542 , v2[1]] ,"y-" ,linewidth = 0.1)
plt.imshow(img)
plt.show
plt.savefig("var_out2.png",dpi=800)

